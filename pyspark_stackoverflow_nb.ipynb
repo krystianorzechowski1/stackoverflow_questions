{
 "cells": [
  {
   "cell_type": "code",
   "execution_count": 22,
   "outputs": [
    {
     "name": "stdout",
     "output_type": "stream",
     "text": [
      "+---+----------+---------+\n",
      "| ID|sourceName|eventData|\n",
      "+---+----------+---------+\n",
      "|  1|       GS3|        1|\n",
      "|  2|       GS2|        1|\n",
      "|  3|       GS2|        8|\n",
      "|  4|       GS1|        1|\n",
      "|  5|       GS2|        2|\n",
      "|  6|       ABC|        0|\n",
      "|  7|      B123|        0|\n",
      "|  8|      B423|        0|\n",
      "|  9|      PTSD|      168|\n",
      "| 10|       XCD|        0|\n",
      "+---+----------+---------+\n",
      "\n"
     ]
    }
   ],
   "source": [
    "from pyspark.sql import SparkSession\n",
    "from pyspark.sql import functions as f, Window as W\n",
    "\n",
    "_data = [\n",
    "    [1, \"GS3\", 1],\n",
    "    [2, \"GS2\", 1],\n",
    "    [3, \"GS2\", 8],\n",
    "    [4, \"GS1\", 1],\n",
    "    [5, \"GS2\", 2],\n",
    "    [6, \"ABC\", 0],\n",
    "    [7, \"B123\", 0],\n",
    "    [8, \"B423\", 0],\n",
    "    [9, \"PTSD\", 168],\n",
    "    [10, \"XCD\", 0]\n",
    "]\n",
    "_cols = [\"ID\", \"sourceName\", \"eventData\"]\n",
    "spark = SparkSession.builder \\\n",
    "    .getOrCreate()\n",
    "spark.sparkContext.setLogLevel(\"ERROR\")\n",
    "\n",
    "df = spark.createDataFrame(data=_data, schema=_cols)\n",
    "df.show()"
   ],
   "metadata": {
    "collapsed": false,
    "ExecuteTime": {
     "end_time": "2024-02-29T12:04:01.068313Z",
     "start_time": "2024-02-29T12:04:00.889965Z"
    }
   }
  },
  {
   "cell_type": "code",
   "execution_count": 23,
   "outputs": [
    {
     "name": "stdout",
     "output_type": "stream",
     "text": [
      "+---+----------+---------+---------------+\n",
      "| ID|sourceName|eventData|testValveOpened|\n",
      "+---+----------+---------+---------------+\n",
      "|  1|       GS3|        1|              0|\n",
      "|  2|       GS2|        1|              1|\n",
      "|  3|       GS2|        8|              8|\n",
      "|  4|       GS1|        1|              0|\n",
      "|  5|       GS2|        2|              2|\n",
      "|  6|       ABC|        0|              0|\n",
      "|  7|      B123|        0|              0|\n",
      "|  8|      B423|        0|              0|\n",
      "|  9|      PTSD|      168|              0|\n",
      "| 10|       XCD|        0|              0|\n",
      "+---+----------+---------+---------------+\n",
      "\n"
     ]
    }
   ],
   "source": [
    "df = df.withColumn(\"testValveOpened\", f.when(f.col(\"sourceName\") == \"GS2\", f.col(\"eventData\")).otherwise(0))\n",
    "df.show()"
   ],
   "metadata": {
    "collapsed": false,
    "ExecuteTime": {
     "end_time": "2024-02-29T12:04:04.416336Z",
     "start_time": "2024-02-29T12:04:04.252623Z"
    }
   }
  },
  {
   "cell_type": "code",
   "execution_count": 24,
   "outputs": [
    {
     "name": "stdout",
     "output_type": "stream",
     "text": [
      "+---+----------+---------+---------------+\n",
      "| ID|sourceName|eventData|testValveOpened|\n",
      "+---+----------+---------+---------------+\n",
      "|  1|       GS3|        1|              0|\n",
      "|  2|       GS2|        1|              1|\n",
      "|  3|       GS2|        8|              9|\n",
      "|  4|       GS1|        1|              9|\n",
      "|  5|       GS2|        2|             11|\n",
      "|  6|       ABC|        0|             11|\n",
      "|  7|      B123|        0|             11|\n",
      "|  8|      B423|        0|             11|\n",
      "|  9|      PTSD|      168|             11|\n",
      "| 10|       XCD|        0|             11|\n",
      "+---+----------+---------+---------------+\n",
      "\n"
     ]
    }
   ],
   "source": [
    "window = W.orderBy(\"ID\")\n",
    "df = df.withColumn(\"testValveOpened\", f.sum(\"testValveOpened\").over(window))\n",
    "df.show()"
   ],
   "metadata": {
    "collapsed": false,
    "ExecuteTime": {
     "end_time": "2024-02-29T12:04:07.494322Z",
     "start_time": "2024-02-29T12:04:07.390098Z"
    }
   }
  },
  {
   "cell_type": "code",
   "execution_count": 27,
   "outputs": [
    {
     "name": "stdout",
     "output_type": "stream",
     "text": [
      "+---+----------+---------+---------------+\n",
      "| ID|sourceName|eventData|testValveOpened|\n",
      "+---+----------+---------+---------------+\n",
      "|  1|       GS3|        1|              1|\n",
      "|  2|       GS2|        1|              1|\n",
      "|  3|       GS2|        8|              8|\n",
      "|  4|       GS1|        1|              8|\n",
      "|  5|       GS2|        2|              2|\n",
      "|  6|       ABC|        0|              2|\n",
      "|  7|      B123|        0|              2|\n",
      "|  8|      B423|        0|              2|\n",
      "|  9|      PTSD|      168|              2|\n",
      "| 10|       XCD|        0|              2|\n",
      "+---+----------+---------+---------------+\n",
      "\n"
     ]
    }
   ],
   "source": [
    "df = df.withColumn(\"testValveOpened\", f.first(\"eventData\").over(window.partitionBy(\"testValveOpened\").orderBy(\"ID\")))\n",
    "df.show()"
   ],
   "metadata": {
    "collapsed": false,
    "ExecuteTime": {
     "end_time": "2024-02-29T12:06:31.685924Z",
     "start_time": "2024-02-29T12:06:31.220199Z"
    }
   }
  },
  {
   "cell_type": "code",
   "execution_count": null,
   "outputs": [],
   "source": [],
   "metadata": {
    "collapsed": false
   }
  }
 ],
 "metadata": {
  "kernelspec": {
   "display_name": "Python 3",
   "language": "python",
   "name": "python3"
  },
  "language_info": {
   "codemirror_mode": {
    "name": "ipython",
    "version": 2
   },
   "file_extension": ".py",
   "mimetype": "text/x-python",
   "name": "python",
   "nbconvert_exporter": "python",
   "pygments_lexer": "ipython2",
   "version": "2.7.6"
  }
 },
 "nbformat": 4,
 "nbformat_minor": 0
}
